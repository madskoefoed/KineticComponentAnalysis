{
 "metadata": {
  "language_info": {
   "codemirror_mode": {
    "name": "ipython",
    "version": 3
   },
   "file_extension": ".py",
   "mimetype": "text/x-python",
   "name": "python",
   "nbconvert_exporter": "python",
   "pygments_lexer": "ipython3",
   "version": 3
  },
  "orig_nbformat": 2,
  "kernelspec": {
   "name": "julia-1.5",
   "display_name": "Julia 1.5.0",
   "language": "julia"
  }
 },
 "nbformat": 4,
 "nbformat_minor": 2,
 "cells": [
  {
   "cell_type": "code",
   "execution_count": 27,
   "metadata": {},
   "outputs": [],
   "source": [
    "# Kinetic Component Analysis in Julia\n",
    "#### Own Julia code translated from the Python code found in Kinetic Component Analysis, Marcos López de Prado & Riccardo Rebonato - Journal of Investing (2016). and only changed slightly to allow for user input with regarding to the size of A (i.e. the number of degrees of the Taylor expansion)."
   ]
  },
  {
   "cell_type": "code",
   "execution_count": 65,
   "metadata": {},
   "outputs": [],
   "source": [
    "#### Load packages\n",
    "using IJulia\n",
    "using StateSpaceModels\n",
    "using Random\n",
    "using Distributions\n",
    "using Plots\n",
    "using LinearAlgebra"
   ]
  },
  {
   "cell_type": "code",
   "execution_count": 98,
   "metadata": {},
   "outputs": [
    {
     "output_type": "execute_result",
     "data": {
      "text/plain": [
       "#69 (generic function with 2 methods)"
      ]
     },
     "metadata": {},
     "execution_count": 98
    }
   ],
   "source": [
    "# y = Z * a + e ~ N(0, H)\n",
    "# a = T * a + R * n ~ N(0, Q)\n",
    "\n",
    "fitKCA = function(t, z, q, a = 2)\n",
    "    # 1) Set up matrices A, H and Q\n",
    "    h = (t[end] - t[1])/length(z)\n",
    "    H = zeros(1, a + 1) ; H[1, 1] = 1\n",
    "    A = zeros(a + 1, a + 1)\n",
    "    for i in 1:a+1\n",
    "        A[1:a-i+2, i:a+1] += Matrix(I*1.0/factorial(i-1)*h^(i-1), a - i + 2, a - i + 2)\n",
    "    end\n",
    "    Q = Matrix(I*q, a + 1, a + 1)\n",
    "\n",
    "    # 2-4) Apply filter, EM estimates and smooth\n",
    "    kf = statespace(StateSpaceModel(z, H, A, Q))\n",
    "    x_mean  = kf.smoother.alpha\n",
    "    x_covar = kf.smoother.V\n",
    "\n",
    "    # 6) Std series\n",
    "    x_std = zeros(length(z), a + 1)\n",
    "    for i in 1:a+1\n",
    "        x_std[:, i] = sqrt.(kf.smoother.V[i, i, :])\n",
    "    end\n",
    "\n",
    "    return (x_mean, x_std, x_covar)\n",
    "end"
   ]
  },
  {
   "cell_type": "code",
   "execution_count": 80,
   "metadata": {},
   "outputs": [
    {
     "output_type": "execute_result",
     "data": {
      "text/plain": [
       "#59 (generic function with 2 methods)"
      ]
     },
     "metadata": {},
     "execution_count": 80
    }
   ],
   "source": [
    "getPeriodic = function(periods, nobs, scale, seed = 0)\n",
    "    t = range(0, stop = pi*periods, length = nobs)\n",
    "    s = sin.(t)\n",
    "    z = s .+ rand(Normal(0.0, scale^2), nobs)\n",
    "    return (t, s, z)\n",
    "end"
   ]
  },
  {
   "cell_type": "code",
   "execution_count": 99,
   "metadata": {},
   "outputs": [
    {
     "output_type": "stream",
     "name": "stdout",
     "text": [
      "==============================================================\n",
      "                  StateSpaceModels.jl v0.3.2                  \n",
      " (c) Raphael Saavedra, Guilherme Bodin, and Mario Souto, 2019 \n",
      "--------------------------------------------------------------\n",
      "            Starting state-space model estimation.            \n",
      "    Initiating maximum likelihood estimation with 3 seeds.    \n",
      "--------------------------------------------------------------\n",
      "||    seed    |     log-likelihood      |      time (s)     ||\n",
      "||       1    |           -93.9743      |          0.20     ||\n",
      "||       2    |           -93.9635      |          0.34     ||\n",
      "||       3    |           -95.5237      |          0.61     ||\n",
      "--------------------------------------------------------------\n",
      "           Maximum likelihood estimation complete.            \n",
      "                  Log-likelihood:   -93.9635                  \n",
      "                             AIC:   195.9270                  \n",
      "                             BIC:   210.7421                  \n",
      "             End of state-space model estimation.             \n",
      "==============================================================\n"
     ]
    },
    {
     "output_type": "execute_result",
     "data": {
      "text/plain": [
       "([-0.04652260492957516 1.2769328577438843 -0.7084160361580869; 0.08331315000090334 1.2027699986700213 -0.7087030157404115; … ; 0.04630770504544765 1.6307340707883318 1.3974139732322568; 0.2247416285066045 1.7770742849688321 1.397415603605959], [0.14915606485864236 0.41942119524552884 0.7667278592740674; 0.11924530843939676 0.3552265617801981 0.7158609848873156; … ; 0.11924712694941383 0.35563998143100606 0.7667330480244001; 0.1491568416001696 0.4198127165349982 0.814885169613568], [0.02224753168411553 -0.04897108248616282 0.05363432888973213; -0.04897108250158701 0.17591413902118802 -0.2668981433111047; 0.053634328889749 -0.2669001937131722 0.5878716101869941]\n",
       "\n",
       "[0.014219443584806868 -0.02899550728034228 0.02902935958991293; -0.028996350229135714 0.1261859101941809 -0.20566845589200966; 0.02902893263672013 -0.20567103238136042 0.5124569496838376]\n",
       "\n",
       "[0.009628982284283438 -0.0158454874031122 0.010746787709649652; -0.015845486964735755 0.08855904742813436 -0.15330832681502216; 0.01074681174759462 -0.15330802253447473 0.4396496720146388]\n",
       "\n",
       "...\n",
       "\n",
       "[0.009629249878741662 0.015825663165135437 0.010301735403783999; 0.015825663165135437 0.08876153879127244 0.1520077678188758; 0.010301735403783985 0.15200776781887582 0.5124661819879572]\n",
       "\n",
       "[0.01421987728568962 0.02898432826024877 0.028908044865320212; 0.02898432826024877 0.12647979639224632 0.20534126085946428; 0.02890804486532022 0.20534126085946428 0.5878795669327871]\n",
       "\n",
       "[0.022247763396138084 0.048971600682400404 0.053634345433571394; 0.048971600682400404 0.17624271696449473 0.2669030840655026; 0.053634345433571394 0.2669030840655026 0.6640378396561335])"
      ]
     },
     "metadata": {},
     "execution_count": 99
    }
   ],
   "source": [
    "nobs = 300\n",
    "periods = 10\n",
    "\n",
    "t, s, z = getPeriodic(periods, nobs, 0.5)\n",
    "\n",
    "kf = fitKCA(t, z, 0.001, 2)"
   ]
  },
  {
   "cell_type": "code",
   "execution_count": 91,
   "metadata": {},
   "outputs": [
    {
     "output_type": "execute_result",
     "data": {
      "text/plain": [
       "3×3×300 Array{Float64,3}:\n",
       "[:, :, 1] =\n",
       "  0.0247205   -0.0529434    0.00171385\n",
       " -0.0529434    0.225472    -0.00832396\n",
       "  0.00171385  -0.00832985   0.0199199\n",
       "\n",
       "[:, :, 2] =\n",
       "  0.0161142    -0.0311726    0.000951173\n",
       " -0.0311704     0.170378    -0.00640724\n",
       "  0.000950674  -0.00641377   0.0199199\n",
       "\n",
       "[:, :, 3] =\n",
       "  0.0114588    -0.0173707    0.000388804\n",
       " -0.0173706     0.129503    -0.00475661\n",
       "  0.000388784  -0.00475715   0.0199187\n",
       "\n",
       "...\n",
       "\n",
       "[:, :, 298] =\n",
       " 0.0114588    0.0133196   0.000388759\n",
       " 0.0133196    0.16927     0.00432569\n",
       " 0.000388759  0.00432569  0.0199164\n",
       "\n",
       "[:, :, 299] =\n",
       " 0.0161146    0.0292767   0.000950948\n",
       " 0.0292767    0.22396     0.00624232\n",
       " 0.000950948  0.00624232  0.0199164\n",
       "\n",
       "[:, :, 300] =\n",
       " 0.0247205   0.0529434   0.00171385\n",
       " 0.0529434   0.289042    0.00832796\n",
       " 0.00171385  0.00832796  0.0199164"
      ]
     },
     "metadata": {},
     "execution_count": 91
    }
   ],
   "source": []
  }
 ]
}